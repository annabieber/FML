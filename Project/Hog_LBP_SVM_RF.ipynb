{
 "cells": [
  {
   "cell_type": "code",
   "execution_count": 5,
   "metadata": {},
   "outputs": [],
   "source": [
    "import numpy as np\n",
    "#import pickle\n",
    "import cv2\n",
    "import os\n",
    "import matplotlib.pyplot as plt\n",
    "#from more_itertools import locate\n",
    "\n",
    "# SK-Learn\n",
    "from skimage.feature import hog\n",
    "from sklearn import svm\n",
    "from sklearn.ensemble import RandomForestClassifier\n",
    "from sklearn.metrics import confusion_matrix\n",
    "from sklearn.metrics import accuracy_score"
   ]
  },
  {
   "cell_type": "code",
   "execution_count": 3,
   "metadata": {},
   "outputs": [],
   "source": [
    "#Import pictures\n",
    "def load_images_from_folder(folder):\n",
    "    images = []\n",
    "    for expression in os.listdir(folder):\n",
    "        path = folder + expression\n",
    "        #print(path)\n",
    "        for filename in os.listdir(path):\n",
    "            #print(filename)\n",
    "            img = cv2.imread(path + '/' +filename)\n",
    "\n",
    "            if img is not None:\n",
    "                images.append(img)\n",
    "    return images\n",
    "\n",
    "train_dir = 'Data/train/'\n",
    "test_dir = 'Data/test/'\n"
   ]
  },
  {
   "cell_type": "code",
   "execution_count": 6,
   "metadata": {},
   "outputs": [
    {
     "data": {
      "image/png": "[encoded data removed]",
      "text/plain": [
       "<Figure size 432x288 with 1 Axes>"
      ]
     },
     "metadata": {
      "needs_background": "light"
     },
     "output_type": "display_data"
    }
   ],
   "source": [
    "training = load_images_from_folder(train_dir)\n",
    "testing = load_images_from_folder(test_dir)\n",
    "\n",
    "#Display first image in training data\n",
    "img = training[0]\n",
    "imgplot = plt.imshow(img)\n",
    "plt.show()"
   ]
  },
  {
   "cell_type": "code",
   "execution_count": 9,
   "metadata": {},
   "outputs": [
    {
     "name": "stdout",
     "output_type": "stream",
     "text": [
      "(28666, 900)\n",
      "(7178, 900)\n"
     ]
    }
   ],
   "source": [
    "#Caculate HoG for every image in data\n",
    "\n",
    "hog_features_training = np.asarray([hog(image_training, orientations=9, pixels_per_cell=(8,8), cells_per_block=(2,2)) for image_training in training])\n",
    "hog_features_test = np.asarray([hog(image_test, orientations=9, pixels_per_cell=(8,8), cells_per_block=(2,2)) for image_test in testing])\n",
    "\n",
    "#print shape\n",
    "print(hog_features_training.shape)\n",
    "print(hog_features_test.shape)"
   ]
  },
  {
   "cell_type": "code",
   "execution_count": 13,
   "metadata": {},
   "outputs": [],
   "source": [
    "#Split up into training and test \n",
    "X_trn_hog = hog_features_training\n",
    "Y_trn = imageLabels #TODO need to change this\n",
    "\n",
    "X_test_hog = hog_features_test\n",
    "Y_test = testImageLabels #TODO need to change this"
   ]
  },
  {
   "cell_type": "markdown",
   "metadata": {},
   "source": [
    "## SVM Classifiers"
   ]
  },
  {
   "cell_type": "code",
   "execution_count": 14,
   "metadata": {},
   "outputs": [
    {
     "ename": "NameError",
     "evalue": "name 'Y_trn' is not defined",
     "output_type": "error",
     "traceback": [
      "\u001b[1;31m---------------------------------------------------------------------------\u001b[0m",
      "\u001b[1;31mNameError\u001b[0m                                 Traceback (most recent call last)",
      "\u001b[1;32m<ipython-input-14-990084cbeed2>\u001b[0m in \u001b[0;36m<module>\u001b[1;34m\u001b[0m\n\u001b[0;32m      4\u001b[0m \u001b[1;33m\u001b[0m\u001b[0m\n\u001b[0;32m      5\u001b[0m \u001b[1;31m# train SVM models\u001b[0m\u001b[1;33m\u001b[0m\u001b[1;33m\u001b[0m\u001b[1;33m\u001b[0m\u001b[0m\n\u001b[1;32m----> 6\u001b[1;33m \u001b[0msvm_hog\u001b[0m\u001b[1;33m.\u001b[0m\u001b[0mfit\u001b[0m\u001b[1;33m(\u001b[0m\u001b[0mX_trn_hog\u001b[0m\u001b[1;33m,\u001b[0m \u001b[0mY_trn\u001b[0m\u001b[1;33m)\u001b[0m\u001b[1;33m\u001b[0m\u001b[1;33m\u001b[0m\u001b[0m\n\u001b[0m\u001b[0;32m      7\u001b[0m \u001b[1;33m\u001b[0m\u001b[0m\n\u001b[0;32m      8\u001b[0m \u001b[1;31m# evaluate SVM models with the confusion matrix and with accuracy\u001b[0m\u001b[1;33m\u001b[0m\u001b[1;33m\u001b[0m\u001b[1;33m\u001b[0m\u001b[0m\n",
      "\u001b[1;31mNameError\u001b[0m: name 'Y_trn' is not defined"
     ]
    }
   ],
   "source": [
    "#Linear SVM\n",
    "# create SVM models\n",
    "svm_hog = svm.SVC(kernel='linear', gamma='scale')\n",
    "\n",
    "# train SVM models\n",
    "svm_hog.fit(X_trn_hog, Y_trn)\n",
    "\n",
    "# evaluate SVM models with the confusion matrix and with accuracy\n",
    "hog_predictions = svm_hog.predict(X_test_hog)\n",
    "print('HoG Accuracy: {}'.format(accuracy_score(Y_test, hog_predictions))) \n",
    "plt.subplot(111), plt.imshow(confusion_matrix(Y_test, hog_predictions)), plt.title('HoG Confusion Matrix')\n",
    "plt.show()"
   ]
  },
  {
   "cell_type": "code",
   "execution_count": null,
   "metadata": {},
   "outputs": [],
   "source": [
    "#Non-Linear SVMS - poly and rbf kernel\n",
    "\n",
    "# create SVM models\n",
    "svm_poly = svm.SVC(kernel='poly', gamma='scale')\n",
    "svm_rbf = svm.SVC(kernel='rbf', gamma='scale')\n",
    "\n",
    "# train SVM models\n",
    "svm_poly.fit(X_trn_hog, Y_trn)\n",
    "svm_rbf.fit(X_trn_hog, Y_trn)\n",
    "\n",
    "# evaluate SVM models with the confusion matrix and with accuracy\n",
    "poly_predictions = svm_poly.predict(X_test_hog)\n",
    "rbf_predictions = svm_rbf.predict(X_test_hog)\n",
    "print('Polynomial Accuracy: {}'.format(accuracy_score(Y_test, poly_predictions)))\n",
    "print('Radial Basis Function Accuracy: {}'.format(accuracy_score(Y_test, rbf_predictions)))\n",
    "plt.subplot(121), plt.imshow(confusion_matrix(Y_test, poly_predictions)), plt.title('Polynomial Confusion Matrix')\n",
    "plt.subplot(122), plt.imshow(confusion_matrix(Y_test, hog_predictions)), plt.title('RBF Confusion Matrix')\n",
    "plt.show()"
   ]
  },
  {
   "cell_type": "markdown",
   "metadata": {},
   "source": [
    "## Random Forest Classifiers"
   ]
  },
  {
   "cell_type": "code",
   "execution_count": null,
   "metadata": {},
   "outputs": [],
   "source": [
    "# create random forest classifier\n",
    "rf = RandomForestClassifier(n_estimators=100, criterion='entropy')\n",
    "\n",
    "# train classifier\n",
    "rf.fit(X_trn_hog, Y_trn)\n",
    "\n",
    "# evaluate classifier performance\n",
    "rf_predictions = rf.predict(X_test_hog)\n",
    "print('Random Forest Accuracy: {}'.format(accuracy_score(Y_test, rf_predictions)))\n",
    "plt.imshow(confusion_matrix(Y_test, rf_predictions)), plt.title('Random Forest Confusion Matrix')\n",
    "plt.show()"
   ]
  },
  {
   "cell_type": "code",
   "execution_count": null,
   "metadata": {},
   "outputs": [],
   "source": [
    "def randomForest(nbr_estimators_list):\n",
    "    for nbr_estimator in nbr_estimators_list:\n",
    "        # create random forest classifier\n",
    "        rf = RandomForestClassifier(n_estimators=nrb_estimator, criterion='entropy')\n",
    "\n",
    "        # train classifier\n",
    "        rf.fit(X_trn_hog, Y_trn)\n",
    "\n",
    "        # evaluate classifier performance\n",
    "        rf_predictions = rf.predict(X_test_hog)\n",
    "        print('Random Forest Accuracy: {}'.format(accuracy_score(Y_test, rf_predictions)))\n",
    "        plt.imshow(confusion_matrix(Y_test, rf_predictions)), plt.title('Random Forest Confusion Matrix')\n",
    "        plt.show()"
   ]
  },
  {
   "cell_type": "code",
   "execution_count": null,
   "metadata": {},
   "outputs": [],
   "source": [
    "nbr_estimators_list = [40, 100, 200, 250, 300, 350, 400, 450, 500, 1000, 5000]\n",
    "randomForest(nbr_estimators_list)"
   ]
  },
  {
   "cell_type": "markdown",
   "metadata": {},
   "source": [
    "## Comparison of Classifiers"
   ]
  },
  {
   "cell_type": "code",
   "execution_count": null,
   "metadata": {},
   "outputs": [],
   "source": [
    "#Performance Analysis\n",
    "\n",
    "# predictions on training set for both classifiers\n",
    "svm_rbf_trn_predictions = svm_rbf.predict(X_trn_hog)\n",
    "rf1000_trn_predictions = rf1000.predict(X_trn_hog)\n",
    "print('SVM RBF Training Set Accuracy: {}'.format(accuracy_score(Y_trn, svm_rbf_trn_predictions)))\n",
    "print('Random Forest 1000-tree Training Set Accuracy: {}'.format(accuracy_score(Y_trn, rf1000_trn_predictions)))\n",
    "plt.subplot(121), plt.imshow(confusion_matrix(Y_trn, svm_rbf_trn_predictions)), plt.title('SVM RBF Training Set')\n",
    "plt.subplot(122), plt.imshow(confusion_matrix(Y_trn, rf1000_trn_predictions)), plt.title('RF 1000-tree Training Set')\n",
    "plt.show()\n",
    "\n",
    "# compare confusion matrices\n",
    "print(np.subtract(confusion_matrix(Y_trn, svm_rbf_trn_predictions), confusion_matrix(Y_trn, rf1000_trn_predictions)))\n",
    "\n",
    "# re-print test set results for convenience\n",
    "print('Radial Basis Function Accuracy: {}'.format(accuracy_score(Y_test, rbf_predictions)))\n",
    "print('Random Forest 1000-tree Accuracy: {}'.format(accuracy_score(Y_test, rf1000_predictions)))\n",
    "plt.subplot(121), plt.imshow(confusion_matrix(Y_test, hog_predictions)), plt.title('RBF Confusion Matrix')\n",
    "plt.subplot(122), plt.imshow(confusion_matrix(Y_test, rf1000_predictions)), plt.title('RF 1000-tree')\n",
    "plt.show()\n",
    "\n",
    "# compare confusion matrices\n",
    "print(np.subtract(confusion_matrix(Y_test, hog_predictions), confusion_matrix(Y_test, rf1000_predictions)))"
   ]
  },
  {
   "cell_type": "code",
   "execution_count": null,
   "metadata": {},
   "outputs": [],
   "source": [
    "#TODO folded analysis"
   ]
  }
 ],
 "metadata": {
  "kernelspec": {
   "display_name": "Python 3",
   "language": "python",
   "name": "python3"
  },
  "language_info": {
   "codemirror_mode": {
    "name": "ipython",
    "version": 3
   },
   "file_extension": ".py",
   "mimetype": "text/x-python",
   "name": "python",
   "nbconvert_exporter": "python",
   "pygments_lexer": "ipython3",
   "version": "3.7.3"
  }
 },
 "nbformat": 4,
 "nbformat_minor": 2
}
