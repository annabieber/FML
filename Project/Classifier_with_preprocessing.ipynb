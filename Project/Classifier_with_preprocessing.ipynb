{
 "cells": [
  {
   "cell_type": "code",
   "execution_count": null,
   "metadata": {},
   "outputs": [],
   "source": [
    "#Imports\n",
    "import numpy as np\n",
    "import pandas as pd\n",
    "import os\n",
    "import cv2\n",
    "import matplotlib.pyplot as plt\n",
    "from scipy import ndimage, misc\n",
    "\n",
    "# SK-Learn\n",
    "from skimage.feature import hog\n",
    "from sklearn import svm\n",
    "from sklearn.ensemble import RandomForestClassifier\n",
    "from sklearn.metrics import confusion_matrix\n",
    "from sklearn.metrics import accuracy_score\n",
    "\n",
    "#Image Directory\n",
    "train_dir = 'Data/train/'\n",
    "test_dir = 'Data/test/'"
   ]
  },
  {
   "cell_type": "code",
   "execution_count": null,
   "metadata": {},
   "outputs": [],
   "source": [
    "#Import pictures\n",
    "def load_images_from_folder(folder):\n",
    "    #create an integer value for each of 7 categories\n",
    "    class_names = os.listdir(folder) # Get names of classes\n",
    "    class_name2id = { label: index for index, label in enumerate(class_names) } # Map class names to integer labels\n",
    "\n",
    "    images, labels = [], []\n",
    "    for expression in os.listdir(folder):\n",
    "        path = folder + expression\n",
    "        label_id = class_name2id[expression]\n",
    "      \n",
    "        for filename in os.listdir(path):\n",
    "            img = cv2.imread(path + '/' +filename)\n",
    "\n",
    "            if img is not None:\n",
    "                images.append(img)\n",
    "                labels.append(label_id)\n",
    "    return images, labels"
   ]
  },
  {
   "cell_type": "code",
   "execution_count": null,
   "metadata": {},
   "outputs": [],
   "source": [
    "class_names = os.listdir(train_dir) # Get names of classes\n",
    "class_name2id = { label: index for index, label in enumerate(class_names) } # Map class names to integer labels\n",
    "\n",
    "print(class_names)\n",
    "\n",
    "training, labels_training = load_images_from_folder(train_dir)\n",
    "testing, labels_testing = load_images_from_folder(test_dir)\n",
    "\n",
    "#Display first image in training data\n",
    "img = training[0]\n",
    "imgplot = plt.imshow(img)\n",
    "plt.show()"
   ]
  },
  {
   "cell_type": "markdown",
   "metadata": {},
   "source": [
    "## Preprocessing"
   ]
  },
  {
   "cell_type": "code",
   "execution_count": null,
   "metadata": {},
   "outputs": [],
   "source": [
    "#Method to perform equalization histogram on a list of images\n",
    "def equalizing(images):\n",
    "    equ_hist_images = []\n",
    "    for img in images:\n",
    "        img = cv2.cvtColor(img, cv2.COLOR_BGR2GRAY)\n",
    "        equ = cv2.equalizeHist(img)\n",
    "        equ_hist_images.append(equ)\n",
    "    return equ_hist_images\n",
    "#inputs a list of images and the filtervalue (often 3)\n",
    "#outputs a new list of images with the median filter applied\n",
    "def apply_median_filter(images, filter_value): \n",
    "    images_med = []\n",
    "    for img in images:\n",
    "        img_med = ndimage.median_filter(img, filter_value)\n",
    "        images_med.append(img_med)\n",
    "    return images_med\n",
    "\n",
    "training_equalized = equalizing(training)\n",
    "testing_equalized = equalizing(testing)\n",
    "\n",
    "training_equ_med = apply_median_filter(training_equalized, 3)\n",
    "testing_equ_med = apply_median_filter(testing_equalized, 3)"
   ]
  },
  {
   "cell_type": "markdown",
   "metadata": {},
   "source": [
    "## Feature Extraction - HoG"
   ]
  },
  {
   "cell_type": "code",
   "execution_count": null,
   "metadata": {},
   "outputs": [],
   "source": [
    "#Caculate HoG for every image in data\n",
    "\n",
    "hog_features_training = np.asarray([hog(image_training, orientations=9, pixels_per_cell=(8,8), cells_per_block=(2,2)) for image_training in training])\n",
    "hog_features_test = np.asarray([hog(image_test, orientations=9, pixels_per_cell=(8,8), cells_per_block=(2,2)) for image_test in testing])\n",
    "\n",
    "#print shape\n",
    "print(hog_features_training.shape)\n",
    "print(hog_features_test.shape)"
   ]
  },
  {
   "cell_type": "code",
   "execution_count": null,
   "metadata": {},
   "outputs": [],
   "source": [
    "#Split up into training and test \n",
    "X_trn_hog = hog_features_training\n",
    "Y_trn = labels_training \n",
    "\n",
    "X_test_hog = hog_features_test\n",
    "Y_test = labels_testing "
   ]
  },
  {
   "cell_type": "markdown",
   "metadata": {},
   "source": [
    "## Linear SVM"
   ]
  },
  {
   "cell_type": "code",
   "execution_count": null,
   "metadata": {},
   "outputs": [],
   "source": [
    "#Linear SVM\n",
    "# create SVM models\n",
    "svm_hog = svm.SVC(kernel='linear', gamma='scale')\n",
    "\n",
    "# train SVM models\n",
    "svm_hog.fit(X_trn_hog, Y_trn)\n",
    "\n",
    "# evaluate SVM models with the confusion matrix and with accuracy\n",
    "hog_predictions = svm_hog.predict(X_test_hog)\n",
    "print('HoG Accuracy: {}'.format(accuracy_score(Y_test, hog_predictions))) \n",
    "plt.subplot(111), plt.imshow(confusion_matrix(Y_test, hog_predictions)), plt.title('HoG Confusion Matrix')\n",
    "plt.show()"
   ]
  },
  {
   "cell_type": "markdown",
   "metadata": {},
   "source": [
    "## Random Forest"
   ]
  },
  {
   "cell_type": "code",
   "execution_count": null,
   "metadata": {},
   "outputs": [],
   "source": [
    "def randomForest(nbr_estimators_list):\n",
    "    for nbr_estimator in nbr_estimators_list:\n",
    "        # create random forest classifier\n",
    "        rf = RandomForestClassifier(n_estimators=nbr_estimator, criterion='entropy')\n",
    "\n",
    "        # train classifier\n",
    "        rf.fit(X_trn_hog, Y_trn)\n",
    "\n",
    "        # evaluate classifier performance\n",
    "        rf_predictions = rf.predict(X_test_hog)\n",
    "        print('Random Forest Accuracy: {}'.format(accuracy_score(Y_test, rf_predictions)))\n",
    "        plt.imshow(confusion_matrix(Y_test, rf_predictions)), plt.title('Random Forest Confusion Matrix')\n",
    "        plt.show()"
   ]
  },
  {
   "cell_type": "code",
   "execution_count": null,
   "metadata": {},
   "outputs": [],
   "source": [
    "nbr_estimators_list = [100, 200, 300, 400, 500, 1000]\n",
    "randomForest(nbr_estimators_list)"
   ]
  },
  {
   "cell_type": "markdown",
   "metadata": {},
   "source": [
    "## Comparison of Classifiers"
   ]
  },
  {
   "cell_type": "code",
   "execution_count": null,
   "metadata": {},
   "outputs": [],
   "source": [
    "#Performance Analysis\n",
    "\n",
    "# predictions on training set for both classifiers\n",
    "svm_linear = svm_hog.predict(X_trn_hog)\n",
    "\n",
    "# create random forest classifier\n",
    "rf = RandomForestClassifier(n_estimators=500, criterion='entropy')\n",
    "\n",
    "# train classifier\n",
    "rf.fit(X_trn_hog, Y_trn)\n",
    "\n",
    "# evaluate classifier performance\n",
    "rf_predictions = rf.predict(X_test_hog)\n",
    "\n",
    "print('SVM RBF Training Set Accuracy: {}'.format(accuracy_score(Y_trn, svm_linear)))\n",
    "print('Random Forest 1000-tree Training Set Accuracy: {}'.format(accuracy_score(Y_trn, rf_predictions)))\n",
    "plt.subplot(121), plt.imshow(confusion_matrix(Y_trn, svm_linear)), plt.title('SVM RBF Training Set')\n",
    "plt.subplot(122), plt.imshow(confusion_matrix(Y_trn, rf_predictions)), plt.title('RF 500-tree Training Set')\n",
    "plt.show()\n",
    "\n",
    "# compare confusion matrices\n",
    "print(np.subtract(confusion_matrix(Y_trn, svm_linear), confusion_matrix(Y_trn, rf_predictions)))"
   ]
  },
  {
   "cell_type": "code",
   "execution_count": null,
   "metadata": {},
   "outputs": [],
   "source": [
    "#Exploring different parameters of HoG\n",
    "svm_linear_hogtest = svm.SVC(kernel='linear', gamma='scale')\n",
    "rf500_hogtest = RandomForestClassifier(n_estimators=500, criterion='entropy')\n",
    "variedHoGpredictions = np.empty((8, 2, 10000))   # saved in order of for loop\n",
    "\n",
    "index = 0\n",
    "for cellsize in [6, 8, 10]:\n",
    "    for blocksize in [1, 2, 3]:\n",
    "        for orientationbins in [8, 9, 10]:\n",
    "            hogIterFeatures = np.asarray([hog(image, orientations=orientationbins, pixels_per_cell=(cellsize,cellsize), cells_per_block=(blocksize,blocksize)) for image in training])\n",
    "            testHogIterFeatures = np.asarray([hog(testImage, orientations=orientationbins, pixels_per_cell=(cellsize,cellsize), cells_per_block=(blocksize,blocksize)) for testImage in testing])\n",
    "            \n",
    "            svm_linear_hogtest.fit(hogIterFeatures, Y_trn)\n",
    "            rf500_hogtest.fit(hogIterFeatures, Y_trn)\n",
    "            \n",
    "            svm_linear_hogtest_predictions = svm_linear_hogtest.predict(testHogIterFeatures)\n",
    "            rf500_hogtest_predictions = rf500_hogtest.predict(testHogIterFeatures)\n",
    "            variedHoGpredictions[index][0] = svm_linear_hogtest_predictions\n",
    "            variedHoGpredictions[index][1] = rf500_hogtest_predictions\n",
    "            print('SVM-Linear Accuracy with cellsize={}, blocksize={}, orientationbins={}: {}'.format(cellsize, blocksize, orientationbins, accuracy_score(Y_test, svm_linear_hogtest_predictions)))\n",
    "            print('RF 500-tree Accuracy with cellsize={}, blocksize={}, orientationbins={}: {}'.format(cellsize, blocksize, orientationbins, accuracy_score(Y_test, rf500_hogtest_predictions)))\n",
    "            plt.figure(figsize=(8, 4))\n",
    "            plt.subplot(121), plt.imshow(confusion_matrix(Y_test, svm_rbf_hogtest_predictions)), plt.title('SVM-Linear ({}, {}, {})'.format(cellsize, blocksize, orientationbins))\n",
    "            plt.subplot(122), plt.imshow(confusion_matrix(Y_test, rf1000_hogtest_predictions)), plt.title('RF 500-tree ({}, {}, {})'.format(cellsize, blocksize, orientationbins))\n",
    "            plt.show()"
   ]
  }
 ],
 "metadata": {
  "kernelspec": {
   "display_name": "Python 3",
   "language": "python",
   "name": "python3"
  },
  "language_info": {
   "codemirror_mode": {
    "name": "ipython",
    "version": 3
   },
   "file_extension": ".py",
   "mimetype": "text/x-python",
   "name": "python",
   "nbconvert_exporter": "python",
   "pygments_lexer": "ipython3",
   "version": "3.7.3"
  }
 },
 "nbformat": 4,
 "nbformat_minor": 2
}
